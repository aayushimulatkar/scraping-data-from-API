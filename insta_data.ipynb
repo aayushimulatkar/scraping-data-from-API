{
 "cells": [
  {
   "cell_type": "code",
   "execution_count": 1,
   "id": "afd121d4-962d-46ae-b512-0322ad02b316",
   "metadata": {},
   "outputs": [
    {
     "name": "stdout",
     "output_type": "stream",
     "text": [
      "Requirement already satisfied: pandas in c:\\users\\hp\\appdata\\local\\programs\\python\\python312\\lib\\site-packages (2.2.2)\n",
      "Requirement already satisfied: numpy>=1.26.0 in c:\\users\\hp\\appdata\\local\\programs\\python\\python312\\lib\\site-packages (from pandas) (1.26.4)\n",
      "Requirement already satisfied: python-dateutil>=2.8.2 in c:\\users\\hp\\appdata\\local\\programs\\python\\python312\\lib\\site-packages (from pandas) (2.9.0.post0)\n",
      "Requirement already satisfied: pytz>=2020.1 in c:\\users\\hp\\appdata\\local\\programs\\python\\python312\\lib\\site-packages (from pandas) (2024.1)\n",
      "Requirement already satisfied: tzdata>=2022.7 in c:\\users\\hp\\appdata\\local\\programs\\python\\python312\\lib\\site-packages (from pandas) (2024.1)\n",
      "Requirement already satisfied: six>=1.5 in c:\\users\\hp\\appdata\\local\\programs\\python\\python312\\lib\\site-packages (from python-dateutil>=2.8.2->pandas) (1.16.0)\n"
     ]
    }
   ],
   "source": [
    "!pip install pandas\n"
   ]
  },
  {
   "cell_type": "code",
   "execution_count": 11,
   "id": "99944fcf-2ae4-4c6b-bd59-aaa27a24d328",
   "metadata": {},
   "outputs": [
    {
     "name": "stdout",
     "output_type": "stream",
     "text": [
      "Data saved to C:\\Users\\hp\\Downloads\\abc.csv\n"
     ]
    }
   ],
   "source": [
    "import http.client\n",
    "import json\n",
    "import pandas as pd\n",
    "\n",
    "# Fetch the data from the API\n",
    "conn = http.client.HTTPSConnection(\"linkedin-data-api.p.rapidapi.com\")\n",
    "\n",
    "payload = json.dumps({\n",
    "    \"companyIds\": [5383240, 2382910],\n",
    "    \"page\": 1\n",
    "})\n",
    "\n",
    "headers = {\n",
    "    'x-rapidapi-key': \"30adc4b371msh19adc61a6e5bc65p160cd9jsn893e513e57ca\",\n",
    "    'x-rapidapi-host': \"linkedin-data-api.p.rapidapi.com\",\n",
    "    'Content-Type': \"application/json\"\n",
    "}\n",
    "\n",
    "conn.request(\"POST\", \"/company-jobs?username=google\", payload, headers)\n",
    "\n",
    "res = conn.getresponse()\n",
    "data = res.read()\n",
    "\n",
    "# Decode and parse the JSON data\n",
    "json_data = json.loads(data.decode(\"utf-8\"))\n",
    "\n",
    "# Flatten nested JSON data if necessary\n",
    "def flatten_json(y):\n",
    "    out = {}\n",
    "\n",
    "    def flatten(x, name=''):\n",
    "        if type(x) is dict:\n",
    "            for a in x:\n",
    "                flatten(x[a], name + a + '_')\n",
    "        elif type(x) is list:\n",
    "            i = 0\n",
    "            for a in x:\n",
    "                flatten(a, name + str(i) + '_')\n",
    "                i += 1\n",
    "        else:\n",
    "            out[name[:-1]] = x\n",
    "\n",
    "    flatten(y)\n",
    "    return out\n",
    "\n",
    "# Convert JSON data to pandas DataFrame\n",
    "# Assuming the data is a list of dictionaries\n",
    "if isinstance(json_data, dict) and 'data' in json_data:\n",
    "    json_data = json_data['data']\n",
    "\n",
    "# Flatten each record in the list if needed\n",
    "flattened_data = [flatten_json(record) for record in json_data]\n",
    "\n",
    "# Create DataFrame\n",
    "df = pd.DataFrame(flattened_data)\n",
    "\n",
    "# Save the DataFrame to a CSV file\n",
    "output_path = r\"C:\\Users\\hp\\Downloads\\abc.csv\"\n",
    "df.to_csv(output_path, index=False)\n",
    "\n",
    "print(f\"Data saved to {output_path}\")\n"
   ]
  },
  {
   "cell_type": "code",
   "execution_count": 14,
   "id": "4a54dc32-6758-446f-bf99-3f27661136c6",
   "metadata": {},
   "outputs": [
    {
     "name": "stdout",
     "output_type": "stream",
     "text": [
      "Data saved to C:\\Users\\hp\\Downloads\\abc.xlsx\n"
     ]
    }
   ],
   "source": [
    "import http.client\n",
    "import json\n",
    "import pandas as pd\n",
    "\n",
    "# Fetch the data from the API\n",
    "conn = http.client.HTTPSConnection(\"linkedin-data-api.p.rapidapi.com\")\n",
    "\n",
    "payload = json.dumps({\n",
    "    \"companyIds\": [5383240, 2382910],\n",
    "    \"page\": 1\n",
    "})\n",
    "\n",
    "headers = {\n",
    "    'x-rapidapi-key': \"30adc4b371msh19adc61a6e5bc65p160cd9jsn893e513e57ca\",\n",
    "    'x-rapidapi-host': \"linkedin-data-api.p.rapidapi.com\",\n",
    "    'Content-Type': \"application/json\"\n",
    "}\n",
    "\n",
    "conn.request(\"POST\", \"/company-jobs?username=google\", payload, headers)\n",
    "\n",
    "res = conn.getresponse()\n",
    "data = res.read()\n",
    "\n",
    "# Decode and parse the JSON data\n",
    "json_data = json.loads(data.decode(\"utf-8\"))\n",
    "\n",
    "# Convert JSON data to pandas DataFrame\n",
    "# Assuming the data is a list of dictionaries\n",
    "if isinstance(json_data, dict) and 'data' in json_data:\n",
    "    json_data = json_data['data']\n",
    "\n",
    "df = pd.DataFrame(json_data)\n",
    "\n",
    "# Save the DataFrame to an Excel file\n",
    "output_path = r\"C:\\Users\\hp\\Downloads\\abc.xlsx\"\n",
    "df.to_excel(output_path, index=False)\n",
    "\n",
    "print(f\"Data saved to {output_path}\")\n"
   ]
  },
  {
   "cell_type": "code",
   "execution_count": 26,
   "id": "22265ae7-f3a4-4dc8-8bc5-930ce9dcd575",
   "metadata": {},
   "outputs": [
    {
     "name": "stdout",
     "output_type": "stream",
     "text": [
      "Data saved to C:\\Users\\hp\\Downloads\\insta_likes.xlsx\n"
     ]
    }
   ],
   "source": [
    "import http.client\n",
    "import json\n",
    "import pandas as pd\n",
    "from pandas import json_normalize\n",
    "\n",
    "def fetch_instagram_data():\n",
    "    try:\n",
    "        # Fetch the data from the Instagram Scraper API\n",
    "        conn = http.client.HTTPSConnection(\"instagram-scraper-api2.p.rapidapi.com\")\n",
    "        headers = {\n",
    "            'x-rapidapi-key': \"30adc4b371msh19adc61a6e5bc65p160cd9jsn893e513e57ca\",\n",
    "            'x-rapidapi-host': \"instagram-scraper-api2.p.rapidapi.com\"\n",
    "        }\n",
    "        conn.request(\"GET\", \"/v1/likes?code_or_id_or_url=CxYQJO8xuC6\", headers=headers)\n",
    "        \n",
    "        res = conn.getresponse()\n",
    "        if res.status == 200:\n",
    "            data = res.read()\n",
    "            return json.loads(data.decode(\"utf-8\"))\n",
    "        else:\n",
    "            print(f\"Failed to fetch data. Status code: {res.status}\")\n",
    "            return None\n",
    "        \n",
    "    except Exception as e:\n",
    "        print(f\"Error fetching Instagram data: {e}\")\n",
    "        return None\n",
    "\n",
    "def process_instagram_data(json_data):\n",
    "    try:\n",
    "        # Extract items from the nested JSON\n",
    "        items = json_data.get('data', {}).get('items', [])\n",
    "        \n",
    "        # Normalize JSON data into a flat table (DataFrame)\n",
    "        df = json_normalize(items)\n",
    "        \n",
    "        return df\n",
    "    \n",
    "    except Exception as e:\n",
    "        print(f\"Error processing Instagram data: {e}\")\n",
    "        return None\n",
    "\n",
    "def main():\n",
    "    # Fetch Instagram data\n",
    "    json_data = fetch_instagram_data()\n",
    "    if not json_data:\n",
    "        print(\"Failed to fetch Instagram data. Exiting.\")\n",
    "        return\n",
    "    \n",
    "    # Process Instagram data\n",
    "    df = process_instagram_data(json_data)\n",
    "    if df is not None:\n",
    "        # Save the DataFrame to an Excel file\n",
    "        output_path = r\"C:\\Users\\hp\\Downloads\\insta_likes.xlsx\"\n",
    "        df.to_excel(output_path, index=False)\n",
    "        print(f\"Data saved to {output_path}\")\n",
    "\n",
    "if __name__ == \"__main__\":\n",
    "    main()\n"
   ]
  },
  {
   "cell_type": "code",
   "execution_count": null,
   "id": "8fd24891-5958-44cf-9701-01cfde980995",
   "metadata": {},
   "outputs": [],
   "source": []
  }
 ],
 "metadata": {
  "kernelspec": {
   "display_name": "Python 3 (ipykernel)",
   "language": "python",
   "name": "python3"
  },
  "language_info": {
   "codemirror_mode": {
    "name": "ipython",
    "version": 3
   },
   "file_extension": ".py",
   "mimetype": "text/x-python",
   "name": "python",
   "nbconvert_exporter": "python",
   "pygments_lexer": "ipython3",
   "version": "3.12.4"
  }
 },
 "nbformat": 4,
 "nbformat_minor": 5
}
